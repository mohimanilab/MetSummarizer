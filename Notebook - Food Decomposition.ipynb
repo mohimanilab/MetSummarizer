{
 "cells": [
  {
   "cell_type": "code",
   "execution_count": 8,
   "metadata": {},
   "outputs": [],
   "source": [
    "import numpy as np\n",
    "import pandas as pd"
   ]
  },
  {
   "cell_type": "markdown",
   "metadata": {},
   "source": [
    "###  FoodMatrix contains metabalomic profile of each food. \n",
    "### FoodList corresponds to  foods of each column in food matrix\n",
    "### FoodComposition contains the ingredients of each complex food along with all ingredients"
   ]
  },
  {
   "cell_type": "code",
   "execution_count": 9,
   "metadata": {},
   "outputs": [],
   "source": [
    "FoodMatrix = np.load(\"FoodCompositionsMatrix.npy\")"
   ]
  },
  {
   "cell_type": "code",
   "execution_count": 10,
   "metadata": {},
   "outputs": [],
   "source": [
    "FoodList = np.load(\"UniqueFilesNamesForFoods.npy\", allow_pickle = True)"
   ]
  },
  {
   "cell_type": "code",
   "execution_count": 11,
   "metadata": {},
   "outputs": [],
   "source": [
    "FoodComposition = pd.read_csv(\"FoodCompositions.csv\")"
   ]
  },
  {
   "cell_type": "code",
   "execution_count": 12,
   "metadata": {},
   "outputs": [],
   "source": [
    "FoodCompositionsArray = FoodComposition.values"
   ]
  },
  {
   "cell_type": "code",
   "execution_count": null,
   "metadata": {},
   "outputs": [],
   "source": []
  },
  {
   "cell_type": "markdown",
   "metadata": {},
   "source": [
    "### create seperate array for complex foods and ingredients"
   ]
  },
  {
   "cell_type": "code",
   "execution_count": 13,
   "metadata": {},
   "outputs": [],
   "source": [
    "from sklearn.linear_model import LogisticRegression"
   ]
  },
  {
   "cell_type": "code",
   "execution_count": null,
   "metadata": {},
   "outputs": [],
   "source": []
  },
  {
   "cell_type": "raw",
   "metadata": {},
   "source": [
    "#First create separate matrices for raw and complex foods. Each column of the raw matrix corresponds to metabalome (binary vector indicator presence/absence of molecule) of a raw food. Likewise, each column of the complex matrix corresponds to metabalome of complex food.  \n",
    "\n",
    "#In order to make a raw and compelx matrix, one still has to decide whether a food is complex or raw. The decision of whether food is complex or raw is based on a heuristic that operates on the metadata"
   ]
  },
  {
   "cell_type": "code",
   "execution_count": null,
   "metadata": {},
   "outputs": [],
   "source": [
    "BasicArray = FoodCompositionsArray[1:2,:] * 0\n",
    "CompositionArray = FoodCompositionsArray[1:2,:] * 0\n",
    "\n",
    "BasicFoodMatrix = np.zeros((95006,1))\n",
    "ComposedFoodMatrix = np.zeros((95006,1))\n",
    "\n",
    "\n",
    "for k in range(0,3534):\n",
    "    temp = FoodCompositionsArray[k,3]\n",
    "    if(temp != temp):\n",
    "        temp = \"hi\"\n",
    "    split_comma= temp.split(',')\n",
    "    split_comma_space = split_comma[0].split(' ')\n",
    "    OtherIndicator  = FoodCompositionsArray[k,4]\n",
    "\n",
    "\n",
    "    FoodType = 0 \n",
    "\n",
    "    if(OtherIndicator != OtherIndicator or OtherIndicator == \"not applicable\" or OtherIndicator == 'not provided' or OtherIndicator == 'not collected'):\n",
    "        if(len(split_comma) <=1 and len(split_comma_space) <=2):\n",
    "            FoodType = \"basic\"\n",
    "        if(len(split_comma_space) <=2 and len(split_comma) <=1):\n",
    "            FoodType = \"basic\"\n",
    "            \n",
    "    if(FoodType == \"basic\"):\n",
    "        temp = FoodCompositionsArray[k:k+1,:]\n",
    "        BasicArray = np.vstack((BasicArray,temp))\n",
    "        val = temp[0,0]\n",
    "        loc = np.where(FoodList == val)[0][0]\n",
    "        temp = FoodMatrix[:,loc:loc+1]\n",
    "        BasicFoodMatrix = np.hstack((BasicFoodMatrix,temp))\n",
    "    else:\n",
    "        temp = FoodCompositionsArray[k:k+1,:]\n",
    "        CompositionArray = np.vstack((CompositionArray,temp))\n",
    "        val = temp[0,0]\n",
    "        loc = np.where(FoodList == val)[0][0]\n",
    "        temp = FoodMatrix[:,loc:loc+1]\n",
    "        ComposedFoodMatrix = np.hstack((ComposedFoodMatrix,temp))\n",
    "        \n",
    "    print(k)\n",
    "\n",
    "\n",
    "\n",
    "BasicArray = np.delete(BasicArray,0,axis =0)\n",
    "CompositionArray = np.delete(CompositionArray,0,axis =0)\n",
    "\n",
    "BasicFoodMatrix = np.delete(BasicFoodMatrix,0,axis =1)\n",
    "ComposedFoodMatrix = np.delete(ComposedFoodMatrix,0,axis =1)\n"
   ]
  },
  {
   "cell_type": "code",
   "execution_count": null,
   "metadata": {},
   "outputs": [],
   "source": []
  },
  {
   "cell_type": "code",
   "execution_count": null,
   "metadata": {},
   "outputs": [],
   "source": []
  },
  {
   "cell_type": "code",
   "execution_count": null,
   "metadata": {},
   "outputs": [],
   "source": []
  },
  {
   "cell_type": "code",
   "execution_count": null,
   "metadata": {},
   "outputs": [],
   "source": []
  },
  {
   "cell_type": "markdown",
   "metadata": {},
   "source": [
    "### employ optimization procedure to find ingredients of each complex food"
   ]
  },
  {
   "cell_type": "raw",
   "metadata": {},
   "source": [
    "#In order to find the composition of a complex food, perform logistic regression. In this logistic regression each data point corresonds to a row of the raw food matrix. The label of the kth data point corresponds to the kth entry in the metabalome of the complex food. \n",
    "\n",
    "#The logistic regression uses l1 regularization to enforce the coeeficient vector resulting from logistic regression is sparse"
   ]
  },
  {
   "cell_type": "code",
   "execution_count": 77,
   "metadata": {},
   "outputs": [],
   "source": [
    "from sklearn.linear_model import LogisticRegression"
   ]
  },
  {
   "cell_type": "code",
   "execution_count": 102,
   "metadata": {},
   "outputs": [],
   "source": [
    "A = np.zeros((1682,12)).astype('O')"
   ]
  },
  {
   "cell_type": "code",
   "execution_count": null,
   "metadata": {},
   "outputs": [],
   "source": [
    "for itera in range(0,1682):\n",
    "    kstart = itera\n",
    "    cstar = .0008\n",
    "    num = 10\n",
    "    if(np.sum(ComposedFoodMatrix[:,kstart]) == 0):\n",
    "        continue\n",
    "    while num >5:\n",
    "        #kstart = np.where(CompositionArray[:,0] == D)[0][0]\n",
    "        cstar = cstar - .00003 \n",
    "        clf = LogisticRegression(random_state=0, penalty = 'l1', C = cstar, class_weight = \"balanced\").fit(BasicFoodMatrix,ComposedFoodMatrix[:,kstart])\n",
    "        temp = np.where(clf.coef_!=0)[1]\n",
    "        num = temp.shape[0]\n",
    "    \n",
    "    print(cstar,itera)\n",
    "    clf = LogisticRegression(random_state=0, penalty = 'l1', C = cstar, class_weight = \"balanced\").fit(BasicFoodMatrix,ComposedFoodMatrix[:,kstart])\n",
    "    temp = np.where(clf.coef_!=0)[1]\n",
    "        \n",
    "    t = BasicArray[temp,2]\n",
    "    A[itera,0] = CompositionArray[itera,0]\n",
    "    A[itera,1] = CompositionArray[itera,2]\n",
    "    A[itera,2] = CompositionArray[itera,3]\n",
    "    A[itera,3] = CompositionArray[itera,4]\n",
    "    A[itera,4] = CompositionArray[itera,5]\n",
    "    A[itera,5] = CompositionArray[itera,6]\n",
    "    A[itera,6] = CompositionArray[itera,7]\n",
    "    for y in range(0,len(t)):\n",
    "        A[itera,y+7] = t[y]\n",
    "    \n"
   ]
  },
  {
   "cell_type": "code",
   "execution_count": 123,
   "metadata": {},
   "outputs": [],
   "source": [
    "np.save(\"ResultsComplexFoods\", A)"
   ]
  },
  {
   "cell_type": "code",
   "execution_count": 154,
   "metadata": {},
   "outputs": [],
   "source": [
    "np.save(\"IngredientNames\",BasicArray[:,2])"
   ]
  },
  {
   "cell_type": "code",
   "execution_count": 155,
   "metadata": {},
   "outputs": [],
   "source": [
    "t = np.load(\"IngredientNames.npy\", allow_pickle = True )"
   ]
  },
  {
   "cell_type": "code",
   "execution_count": null,
   "metadata": {},
   "outputs": [],
   "source": []
  },
  {
   "cell_type": "code",
   "execution_count": null,
   "metadata": {},
   "outputs": [],
   "source": []
  },
  {
   "cell_type": "code",
   "execution_count": null,
   "metadata": {},
   "outputs": [],
   "source": []
  },
  {
   "cell_type": "code",
   "execution_count": null,
   "metadata": {},
   "outputs": [],
   "source": []
  }
 ],
 "metadata": {
  "kernelspec": {
   "display_name": "Python 3",
   "language": "python",
   "name": "python3"
  },
  "language_info": {
   "codemirror_mode": {
    "name": "ipython",
    "version": 3
   },
   "file_extension": ".py",
   "mimetype": "text/x-python",
   "name": "python",
   "nbconvert_exporter": "python",
   "pygments_lexer": "ipython3",
   "version": "3.8.5"
  }
 },
 "nbformat": 4,
 "nbformat_minor": 2
}
